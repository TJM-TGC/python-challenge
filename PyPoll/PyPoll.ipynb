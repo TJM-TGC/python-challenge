{
 "cells": [
  {
   "cell_type": "code",
   "execution_count": 1,
   "metadata": {},
   "outputs": [],
   "source": [
    "# Deeeependencies\n",
    "\n",
    "import os\n",
    "import csv"
   ]
  },
  {
   "cell_type": "code",
   "execution_count": 2,
   "metadata": {},
   "outputs": [],
   "source": [
    "# Read CSVs\n",
    "\n",
    "rawpoll_data = os.path.join(\"Resources\",\"election_data.csv\")\n",
    "#output_text = os.path.join(\"\")"
   ]
  },
  {
   "cell_type": "code",
   "execution_count": 3,
   "metadata": {},
   "outputs": [],
   "source": [
    "# Vote Counter / Set Up loop\n",
    "\n",
    "vote_count = 0"
   ]
  },
  {
   "cell_type": "code",
   "execution_count": 4,
   "metadata": {},
   "outputs": [],
   "source": [
    "# More Loop Set Up / Counters\n",
    "\n",
    "cand_options = []\n",
    "\n",
    "cand_votes = {}\n",
    "\n",
    "winning_cand = \"\"\n",
    "\n",
    "winning_count = 0\n"
   ]
  },
  {
   "cell_type": "code",
   "execution_count": null,
   "metadata": {},
   "outputs": [],
   "source": [
    "with open(rawpoll_data) as election_data:\n",
    "    reader = csv.reader(election_data)\n",
    "\n",
    "    \n",
    "    header = next(reader)\n",
    "\n",
    " \n",
    "    for row in reader:\n",
    "\n",
    "        \n",
    "        print(\". \", end=\"\"),\n",
    "\n",
    "       \n",
    "        vote_count = vote_count + 1\n",
    "\n",
    "        \n",
    "        cand_name = row[2]\n",
    "\n",
    "        # Add new candidates\n",
    "        \n",
    "        if cand_name not in cand_options:\n",
    "\n",
    "            cand_options.append(cand_name)\n",
    "\n",
    "            cand_votes[cand_name] = 0\n",
    "\n",
    "        cand_votes[cand_name] = cand_votes[cand_name] + 1\n",
    "\n"
   ]
  },
  {
   "cell_type": "code",
   "execution_count": 8,
   "metadata": {},
   "outputs": [
    {
     "name": "stdout",
     "output_type": "stream",
     "text": [
      "\n",
      "\n",
      "Election Results\n",
      "-------------------------\n",
      "Total Votes: 31451\n",
      "-------------------------\n"
     ]
    }
   ],
   "source": [
    "election_results = (\n",
    "        f\"\\n\\nElection Results\\n\"\n",
    "        f\"-------------------------\\n\"\n",
    "        f\"Total Votes: {vote_count}\\n\"\n",
    "        f\"-------------------------\\n\")\n",
    "print(election_results, end=\"\")\n",
    "\n"
   ]
  },
  {
   "cell_type": "code",
   "execution_count": 19,
   "metadata": {},
   "outputs": [
    {
     "name": "stdout",
     "output_type": "stream",
     "text": [
      "Khan: 63.044% (19828)\n",
      "Correy: 19.952% (6275)\n",
      "Li: 14.003% (4404)\n",
      "O'Tooley: 3.001% (944)\n",
      "-------------------------\n",
      "Winner: Khan\n",
      "-------------------------\n",
      "\n"
     ]
    }
   ],
   "source": [
    "# Save the final vote count to the text file\n",
    "#txt_file.write(election_results)\n",
    "\n",
    "    # Determine the winner by looping through the counts\n",
    "for candidate in cand_votes:\n",
    "\n",
    "        # Retrieve vote count and percentage\n",
    "        votes = cand_votes.get(candidate)\n",
    "        vote_percentage = float(votes) / float(vote_count) * 100\n",
    "\n",
    "        # Determine winning vote count and candidate\n",
    "        if (votes > winning_count):\n",
    "            winning_count = votes\n",
    "            winning_candidate = candidate\n",
    "\n",
    "        # Print each candidate's voter count and percentage (to terminal)\n",
    "        voter_output = f\"{candidate}: {vote_percentage:.3f}% ({votes})\\n\"\n",
    "        print(voter_output, end=\"\")\n",
    "\n",
    "        # Save each candidate's voter count and percentage to text file\n",
    "       # txt_file.write(voter_output)\n",
    "\n",
    "    # Print the winning candidate (to terminal)\n",
    "winning_candidate_summary = (\n",
    "        f\"-------------------------\\n\"\n",
    "        f\"Winner: {winning_candidate}\\n\"\n",
    "        f\"-------------------------\\n\")\n",
    "print(winning_candidate_summary)\n",
    "\n",
    "    # Save the winning candidate's name to the text file\n",
    "#txt_file.write(winning_candidate_summary)\n"
   ]
  },
  {
   "cell_type": "code",
   "execution_count": null,
   "metadata": {},
   "outputs": [],
   "source": []
  }
 ],
 "metadata": {
  "kernelspec": {
   "display_name": "Python 3",
   "language": "python",
   "name": "python3"
  },
  "language_info": {
   "codemirror_mode": {
    "name": "ipython",
    "version": 3
   },
   "file_extension": ".py",
   "mimetype": "text/x-python",
   "name": "python",
   "nbconvert_exporter": "python",
   "pygments_lexer": "ipython3",
   "version": "3.8.3"
  }
 },
 "nbformat": 4,
 "nbformat_minor": 4
}
